{
 "cells": [
  {
   "cell_type": "code",
   "execution_count": 3,
   "id": "34aedfd7-edc2-47eb-a073-e52aaea76d64",
   "metadata": {},
   "outputs": [
    {
     "name": "stdout",
     "output_type": "stream",
     "text": [
      "--- Starting Model Pre-computation ---\n",
      "Loading datasets...\n",
      "Fitting TF-IDF Vectorizer...\n",
      "✅ TF-IDF Vectorizer saved to 'tfidf_vectorizer.pkl'\n",
      "\n",
      "Transforming internship skills with TF-IDF...\n",
      "✅ Internship TF-IDF vectors saved to 'internship_tfidf_vectors.npz'\n",
      "\n",
      "Loading Sentence Transformer model...\n",
      "Encoding internship descriptions...\n",
      "✅ Internship embeddings saved to 'internship_embeddings.npy'\n",
      "\n",
      "--- Pre-computation Complete! ---\n"
     ]
    }
   ],
   "source": [
    "import pandas as pd\n",
    "import joblib\n",
    "import numpy as np\n",
    "from sklearn.feature_extraction.text import TfidfVectorizer\n",
    "from sentence_transformers import SentenceTransformer\n",
    "from scipy.sparse import save_npz\n",
    "\n",
    "print(\"--- Starting Model Pre-computation ---\")\n",
    "\n",
    "# --- 1. Load Cleaned Data ---\n",
    "print(\"Loading datasets...\")\n",
    "# Using the cleaned candidates file you created\n",
    "candidates_df = pd.read_csv('candidates_cleaned.csv')\n",
    "internships_df = pd.read_csv('internships.csv').fillna('') # Fill empty cells\n",
    "\n",
    "# --- 2. Fit and Save TF-IDF Vectorizer ---\n",
    "print(\"Fitting TF-IDF Vectorizer...\")\n",
    "# Create a shared corpus of all skills to ensure a consistent vocabulary\n",
    "corpus = pd.concat([candidates_df['skills_text'], internships_df['skills']], ignore_index=True)\n",
    "\n",
    "# Initialize and fit the vectorizer\n",
    "tfidf_vectorizer = TfidfVectorizer(ngram_range=(1, 2), lowercase=True, stop_words='english')\n",
    "tfidf_vectorizer.fit(corpus)\n",
    "\n",
    "# Save the fitted vectorizer object\n",
    "joblib.dump(tfidf_vectorizer, 'tfidf_vectorizer.pkl')\n",
    "print(\"✅ TF-IDF Vectorizer saved to 'tfidf_vectorizer.pkl'\")\n",
    "\n",
    "\n",
    "# --- 3. Transform and Save Internship TF-IDF Vectors ---\n",
    "print(\"\\nTransforming internship skills with TF-IDF...\")\n",
    "# Use the fitted vectorizer to transform the internship skills into a sparse matrix\n",
    "internship_tfidf_vectors = tfidf_vectorizer.transform(internships_df['skills'])\n",
    "\n",
    "# Save the sparse matrix efficiently to prevent memory issues\n",
    "save_npz('internship_tfidf_vectors.npz', internship_tfidf_vectors)\n",
    "print(\"✅ Internship TF-IDF vectors saved to 'internship_tfidf_vectors.npz'\")\n",
    "\n",
    "\n",
    "# --- 4. Pre-compute and Save Internship Embeddings ---\n",
    "print(\"\\nLoading Sentence Transformer model...\")\n",
    "# Load the pre-trained model\n",
    "model = SentenceTransformer('sentence-transformers/all-MiniLM-L6-v2')\n",
    "\n",
    "print(\"Encoding internship descriptions...\")\n",
    "# Use the description column to create semantic embeddings\n",
    "# Based on your file, the column is 'if skills orperksmissiongusethis'\n",
    "description_column = 'ifSkillsorPerksMissingUseThis' # Make sure this column name is correct\n",
    "internship_embeddings = model.encode(internships_df[description_column].tolist())\n",
    "\n",
    "# Save the embeddings to a file\n",
    "np.save('internship_embeddings.npy', internship_embeddings)\n",
    "print(\"✅ Internship embeddings saved to 'internship_embeddings.npy'\")\n",
    "\n",
    "print(\"\\n--- Pre-computation Complete! ---\")"
   ]
  },
  {
   "cell_type": "code",
   "execution_count": null,
   "id": "9d3a65a5-fabf-477c-8425-2917e31b74f1",
   "metadata": {},
   "outputs": [],
   "source": []
  }
 ],
 "metadata": {
  "kernelspec": {
   "display_name": "Python 3 (ipykernel)",
   "language": "python",
   "name": "python3"
  },
  "language_info": {
   "codemirror_mode": {
    "name": "ipython",
    "version": 3
   },
   "file_extension": ".py",
   "mimetype": "text/x-python",
   "name": "python",
   "nbconvert_exporter": "python",
   "pygments_lexer": "ipython3",
   "version": "3.10.10"
  }
 },
 "nbformat": 4,
 "nbformat_minor": 5
}
